{
 "cells": [
  {
   "cell_type": "code",
   "execution_count": null,
   "metadata": {},
   "outputs": [],
   "source": [
    "class BasenerParams(Parameters):\n",
    "    @classmethod\n",
    "    def f(cls, q):\n",
    "        \"\"\"\n",
    "        Sets the probability of neutral mutation to that o\n",
    "        \"\"\"\n",
    "        f = super().f(q)\n",
    "        n = f.shape[0]\n",
    "        f[np.diag_indices(n)] = q[n-2]\n",
    "        return f\n",
    "    \n",
    "    def q(self, gamma, beta=500):\n",
    "        pass"
   ]
  },
  {
   "cell_type": "code",
   "execution_count": null,
   "metadata": {},
   "outputs": [],
   "source": [
    "def relative_error(actual, desired):\n",
    "    \"\"\"\n",
    "    Returns `(actual - desired) / desired`, with 0/0 treated as 0.\n",
    "    \"\"\"\n",
    "    if np.shape(actual) != np.shape(desired):\n",
    "        raise ValueError('Arguments are not identical in shape')\n",
    "    if not isinstance(desired, np.ndarray):\n",
    "        desired = np.array(desired)\n",
    "    result = np.subtract(actual, desired)\n",
    "    unequal = result != 0\n",
    "    undefined = np.logical_and(unequal, desired == 0)\n",
    "    defined = np.logical_and(unequal, desired != 0)\n",
    "    result[undefined] = np.inf\n",
    "    result[defined] /= desired[defined]\n",
    "    return result"
   ]
  }
 ],
 "metadata": {
  "kernelspec": {
   "display_name": "Python 3",
   "language": "python",
   "name": "python3"
  },
  "language_info": {
   "codemirror_mode": {
    "name": "ipython",
    "version": 3
   },
   "file_extension": ".py",
   "mimetype": "text/x-python",
   "name": "python",
   "nbconvert_exporter": "python",
   "pygments_lexer": "ipython3",
   "version": "3.7.6"
  }
 },
 "nbformat": 4,
 "nbformat_minor": 4
}
